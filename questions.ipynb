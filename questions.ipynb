{
 "cells": [
  {
   "cell_type": "markdown",
   "metadata": {},
   "source": [
    "<div align=center>\n",
    "\t\t\n",
    "<p></p>\n",
    "<p></p>\n",
    "<font size=5>\n",
    "In the Name of God\n",
    "<font/>\n",
    "<p></p>\n",
    " <br/>\n",
    "    <br/>\n",
    "    <br/>\n",
    "<font color=#FF7500>\n",
    "Sharif University of Technology - Department of Computer Engineering\n",
    "</font>\n",
    "<p></p>\n",
    "<font color=blue>\n",
    "Artifical Intelligence - Dr. Mohammad Hossein Rohban\n",
    "</font>\n",
    "<br/>\n",
    "<br/>\n",
    "Fall 2021\n",
    "\n",
    "</div>\n",
    "\n",
    "<hr/>\n",
    "\t\t<div align=center>\n",
    "\t\t    <font color=red size=6>\n",
    "\t\t\t    <br />\n",
    "Practical Assignment 2\n",
    "            \t<br/>\n",
    "\t\t\t</font>\n",
    "    <br/>\n",
    "    <br/>\n",
    "<font size=4>\n",
    "\t\t\t<br/><br/>\n",
    "Deadline:  Aban 27th\n",
    "                <br/><b>\n",
    "              Cheating is Strongly Prohibited\n",
    "                </b><br/><br/>\n",
    "                <font color=red>\n",
    "Please run all the cells.\n",
    "     </font>\n",
    "</font>\n",
    "                <br/>\n",
    "    </div>"
   ]
  },
  {
   "cell_type": "markdown",
   "metadata": {},
   "source": [
    "# Personal Data"
   ]
  },
  {
   "cell_type": "code",
   "execution_count": 1,
   "metadata": {
    "collectable": true,
    "execution": {
     "iopub.execute_input": "2021-10-01T16:01:36.762477Z",
     "iopub.status.busy": "2021-10-01T16:01:36.762155Z",
     "iopub.status.idle": "2021-10-01T16:01:36.764025Z",
     "shell.execute_reply": "2021-10-01T16:01:36.763754Z"
    }
   },
   "outputs": [],
   "source": [
    "# Set your student number\n",
    "student_number = 98100118\n",
    "Name = 'parham '\n",
    "Last_Name = 'chavoshian'"
   ]
  },
  {
   "cell_type": "markdown",
   "metadata": {},
   "source": [
    "# Rules\n",
    "- You are not allowed to add or remove cells. You **must use the provided space to write your code**. If you don't follow this rule, **your Practical Assignment won't be graded**. \n",
    "- There is one cell for your custom functions (if you need any) at the beginning of each question. Please note that this jupyter file might be broken down into 3 jupyter notebooks for easier grading, so you **must write your custom functions in the correct cell**.\n",
    "- By running the cell below, you can see if your jupyter file is accepted or not. This cell will also **generate a python file which you'll have to upload to Quera** (as well as your jupyter file). The python file will later be validated and if the code in both files doesn't match, **your Practical Assignment won't be graded**.\n",
    "- This assignment is due Aban 27th 23:59:59. you can use up to 10 grace days for this assignment and the hard deadline is Azar 7th 23:59:59."
   ]
  },
  {
   "cell_type": "code",
   "execution_count": 2,
   "metadata": {},
   "outputs": [
    {
     "name": "stdout",
     "output_type": "stream",
     "text": [
      "your jupyter file will be graded\n"
     ]
    }
   ],
   "source": [
    "# remember to save your jupyter file before running this script\n",
    "from Helper_codes.validator import *\n",
    "\n",
    "python_code = extract_python(\"./questions.ipynb\")\n",
    "with open(f'python_code_{student_number}.py', 'w') as file:\n",
    "    file.write(python_code)"
   ]
  },
  {
   "cell_type": "markdown",
   "metadata": {},
   "source": [
    "# Q1 (30 Points + 5 Extra Points)"
   ]
  },
  {
   "cell_type": "markdown",
   "metadata": {},
   "source": [
    "## Libraries"
   ]
  },
  {
   "cell_type": "code",
   "execution_count": 6,
   "metadata": {
    "collectable": true
   },
   "outputs": [],
   "source": [
    "import numpy as np\n",
    "from typing import Tuple\n",
    "from matplotlib import pyplot as plt"
   ]
  },
  {
   "cell_type": "markdown",
   "metadata": {},
   "source": [
    "<div>\n",
    "\t<font size=3>\n",
    "        <hr/>\n",
    "            In this part of the question, we want to implement the functions and draw diagrams and discuss about the convexity of functions\n",
    "           <hr/>\n",
    "    </font>\n",
    "</div>"
   ]
  },
  {
   "cell_type": "markdown",
   "metadata": {},
   "source": [
    "## Functions"
   ]
  },
  {
   "cell_type": "markdown",
   "metadata": {},
   "source": [
    "a)\n",
    "$f_1(x) = \\frac{x^2 cos(\\frac{x}{10}) - x}{100} \\quad $ where $\\quad x \\in [80, 110]$\n",
    "<br/>\n",
    "b)\n",
    "$f_2(x) = \\log (\\sqrt{sin \\frac{x}{20}}) \\quad $ where $\\quad x \\in [1, 60]$\n",
    "<br/>\n",
    "c)\n",
    "$f_3(x) = \\log (\\cos(x) + \\frac{45}{x}) \\quad $ where $\\quad x \\in [1, 45]$"
   ]
  },
  {
   "cell_type": "markdown",
   "metadata": {},
   "source": [
    "<div>\n",
    "    <font size=3>\n",
    "In the first step, implement the functions.\n",
    "     </font>\n",
    "</div>"
   ]
  },
  {
   "cell_type": "code",
   "execution_count": 7,
   "metadata": {
    "collectable": true
   },
   "outputs": [],
   "source": [
    "def f_1(x):\n",
    "    ############################################################\n",
    "    # (0.5 Points)                                               #\n",
    "    ############################################################\n",
    "    x = np.float64(x)\n",
    "    temp = x ** 2\n",
    "    temp *= np.cos(x / 10)\n",
    "    temp -= x\n",
    "    temp /= 100\n",
    "    return temp"
   ]
  },
  {
   "cell_type": "code",
   "execution_count": 19,
   "metadata": {
    "collectable": true
   },
   "outputs": [],
   "source": [
    "def f_2(x):\n",
    "    ############################################################\n",
    "    # (0.5 Points)                                               #\n",
    "    ############################################################\n",
    "    x = np.float64(x)\n",
    "    temp = x / 20\n",
    "    temp = np.sin(temp)\n",
    "    temp = np.sqrt(temp)\n",
    "    temp = np.log10(temp)\n",
    "    return temp"
   ]
  },
  {
   "cell_type": "code",
   "execution_count": 14,
   "metadata": {
    "collectable": true
   },
   "outputs": [],
   "source": [
    "def f_3(x):\n",
    "    ############################################################\n",
    "    # (0.5 Points)                                               #\n",
    "    ############################################################\n",
    "    x = np.float64(x)\n",
    "    temp = 45 / x\n",
    "    temp += np.cos(x)\n",
    "    temp = np.log10(temp)\n",
    "    return temp"
   ]
  },
  {
   "cell_type": "markdown",
   "metadata": {},
   "source": [
    "<div>\n",
    "    <font size=3>\n",
    "    Now implement a function to plot the mathematical functions\n",
    "     </font>\n",
    "</div>"
   ]
  },
  {
   "cell_type": "code",
   "execution_count": 10,
   "metadata": {
    "collectable": true
   },
   "outputs": [],
   "source": [
    "def draw(func, x_range):\n",
    "    ############################################################\n",
    "    # (0.5 Points)                                               #\n",
    "    ############################################################\n",
    "    x = np.array(x_range)\n",
    "    y = np.apply_along_axis(func, 0, x)\n",
    "    plt.plot(x,y, 'b')\n",
    "    plt.show()\n",
    "    pass"
   ]
  },
  {
   "cell_type": "code",
   "execution_count": 11,
   "metadata": {},
   "outputs": [
    {
     "data": {
      "image/png": "[encoded data removed]",
      "text/plain": [
       "<Figure size 432x288 with 1 Axes>"
      ]
     },
     "metadata": {
      "needs_background": "light"
     },
     "output_type": "display_data"
    }
   ],
   "source": [
    "draw(f_1, np.arange(80, 110 + 1))"
   ]
  },
  {
   "cell_type": "code",
   "execution_count": 20,
   "metadata": {},
   "outputs": [
    {
     "data": {
      "image/png": "[encoded data removed]",
      "text/plain": [
       "<Figure size 432x288 with 1 Axes>"
      ]
     },
     "metadata": {
      "needs_background": "light"
     },
     "output_type": "display_data"
    }
   ],
   "source": [
    "draw(f_2, np.arange(1, 60 + 1))"
   ]
  },
  {
   "cell_type": "code",
   "execution_count": 13,
   "metadata": {},
   "outputs": [
    {
     "data": {
      "image/png": "[encoded data removed]",
      "text/plain": [
       "<Figure size 432x288 with 1 Axes>"
      ]
     },
     "metadata": {
      "needs_background": "light"
     },
     "output_type": "display_data"
    }
   ],
   "source": [
    "draw(f_3, np.arange(1, 45 + 1))"
   ]
  },
  {
   "cell_type": "markdown",
   "metadata": {},
   "source": [
    "<div>\n",
    "    <font size=3>\n",
    "    Discuss the Convexity of each function according to the diagrams\n",
    "     </font>\n",
    "</div>"
   ]
  },
  {
   "cell_type": "markdown",
   "metadata": {},
   "source": [
    "<font color=blue>\n",
    "    (5 Points) <br/>\n",
    "From the definition of cinvexity we notice that only the first function is convex, the second one is not convex but it's concave. The last one is neither convex nor concave.\n",
    "</font>"
   ]
  },
  {
   "cell_type": "markdown",
   "metadata": {},
   "source": [
    "<div>\n",
    "    <font size=3>\n",
    "what method do you suggest to find the maximum in the second function?\n",
    "     </font>\n",
    "</div>"
   ]
  },
  {
   "cell_type": "markdown",
   "metadata": {},
   "source": [
    "<font color=blue>\n",
    "    (3 Points) <br/>\n",
    "We said that second function is concave, so -f_2 is convex, so we can use a method like gradient descent to minimize the -f_2 and this corresponds to maximize f_2.\n",
    "</font>"
   ]
  },
  {
   "cell_type": "markdown",
   "metadata": {},
   "source": [
    "<div>\n",
    "    <font size=3>\n",
    "        <hr/>\n",
    "        <ul>\n",
    "            In this part, we want to obtain a minimum of one of the above functions with the gradiant descent algorithm\n",
    "        </ul>  \n",
    "        <hr/>\n",
    "    </font>\n",
    "</div>"
   ]
  },
  {
   "cell_type": "markdown",
   "metadata": {},
   "source": [
    "## Gradiant descent"
   ]
  },
  {
   "cell_type": "markdown",
   "metadata": {},
   "source": [
    "<div>\n",
    "    <font size=3>\n",
    "    Complete gradiant descent function and calculate the minimum of function (a).\n",
    "     </font>\n",
    "</div>"
   ]
  },
  {
   "cell_type": "code",
   "execution_count": 22,
   "metadata": {
    "collectable": true
   },
   "outputs": [],
   "source": [
    "def gradiant_descent(func, initial_point: float, learning_rate: float, max_iterations: int):\n",
    "    ############################################################\n",
    "    # (7 Points)                                              #\n",
    "    ############################################################\n",
    "    iter = 0\n",
    "    eps = 10e-6\n",
    "    min_x = initial_point\n",
    "    while iter < max_iterations:\n",
    "        grad = (func(min_x + eps) - func(min_x)) / (eps)\n",
    "        if grad == 0:\n",
    "            break\n",
    "        min_x -= learning_rate * grad\n",
    "        iter += 1\n",
    "    return func(min_x)"
   ]
  },
  {
   "cell_type": "code",
   "execution_count": 23,
   "metadata": {},
   "outputs": [
    {
     "data": {
      "text/plain": [
       "-91.75390377402981"
      ]
     },
     "execution_count": 23,
     "metadata": {},
     "output_type": "execute_result"
    }
   ],
   "source": [
    "gradiant_descent(\n",
    "    func=f_1, \n",
    "    initial_point=np.random.uniform(80, 110), \n",
    "    learning_rate=0.05, \n",
    "    max_iterations=1000\n",
    ")"
   ]
  },
  {
   "cell_type": "markdown",
   "metadata": {},
   "source": [
    "<div>\n",
    "    <font size=3>\n",
    "In the last part, we want to investigate the effect of the learning rate hyperparameter on the gradiant descent algorithm with a new function     \n",
    "    </font>\n",
    "</div>"
   ]
  },
  {
   "cell_type": "markdown",
   "metadata": {},
   "source": [
    "## Function"
   ]
  },
  {
   "cell_type": "markdown",
   "metadata": {},
   "source": [
    "$f(x_1, x_2) = 2x_1^2 + 3x_2^2 - 4x_1x_2 - 50x + 6y$"
   ]
  },
  {
   "cell_type": "code",
   "execution_count": 24,
   "metadata": {
    "collectable": true
   },
   "outputs": [],
   "source": [
    "def f(x_1, x_2):\n",
    "    ############################################################\n",
    "    # (1 Points)                                               #\n",
    "    ############################################################\n",
    "    temp = 2 * (x_1 ** 2)\n",
    "    temp += 3 * (x_2 ** 2)\n",
    "    temp -= 4 * x_1 * x_2\n",
    "    temp -= 50 * x_1\n",
    "    temp += 6 * x_2\n",
    "    return temp"
   ]
  },
  {
   "cell_type": "markdown",
   "metadata": {},
   "source": [
    "<div>\n",
    "    <font size=3>\n",
    "Implement gradiant descent function for two-dimensional functions, in such a way that it gives sequence of x_1 and x_2 in the output ()\n",
    "    </font>\n",
    "</div>"
   ]
  },
  {
   "cell_type": "code",
   "execution_count": 25,
   "metadata": {
    "collectable": true
   },
   "outputs": [],
   "source": [
    "def gradiant_descent(func, initial_point: Tuple, learning_rate: float, threshold: float, max_iterations: int):\n",
    "    x_1_sequence = [initial_point[0]]\n",
    "    x_2_sequence = [initial_point[1]]\n",
    "    \n",
    "    # Threshold: if either the value of x1 or x2 is greater than this value, the algorithm ends\n",
    "    # implement your function\n",
    "    ############################################################\n",
    "    # (9 Points)                                              #\n",
    "    ############################################################\n",
    "    iter = 0\n",
    "    while iter < max_iterations and x_1_sequence[-1] <= threshold and x_2_sequence[-1] <= threshold:\n",
    "        x_1_temp, x_2_temp = update_points(func, x_1_sequence[-1], x_2_sequence[-1], learning_rate)\n",
    "        x_1_sequence.append(x_1_temp)\n",
    "        x_2_sequence.append(x_2_temp)\n",
    "        iter += 1\n",
    "    return x_1_sequence, x_2_sequence\n",
    "\n",
    "def update_points(func, x_1, x_2, learning_rate):\n",
    "    eps = 10e-6\n",
    "    grad_x_1 = (func(x_1 + eps, x_2) - func(x_1, x_2)) / eps\n",
    "    grad_x_2 = (func(x_1, x_2 + eps) - func(x_1, x_2)) / eps\n",
    "    x_1 -= learning_rate * grad_x_1\n",
    "    x_2 -= learning_rate * grad_x_2\n",
    "    return x_1, x_2"
   ]
  },
  {
   "cell_type": "code",
   "execution_count": 26,
   "metadata": {},
   "outputs": [],
   "source": [
    "def draw_points_sequence(func, x_1_sequence, x_2_sequence):\n",
    "    X1, X2 = np.meshgrid(np.linspace(-100.0, 100.0, 100), np.linspace(-100.0, 100.0, 100))\n",
    "    Y = func(X1, X2)\n",
    "    cp = plt.contour(X1, X2, Y, colors='black', linestyles='dashed', linewidths=1)\n",
    "    plt.clabel(cp, inline=1, fontsize=10)\n",
    "    cp = plt.contourf(X1, X2, Y, )\n",
    "    plt.xlabel('X1')\n",
    "    plt.ylabel('X2')\n",
    "    plt.scatter(x_1_sequence, x_2_sequence, s=10, c=\"y\")\n",
    "    plt.show()"
   ]
  },
  {
   "cell_type": "markdown",
   "metadata": {},
   "source": [
    "<div>\n",
    "    <font size=3>\n",
    "    Run the gradiant descent algorithm for each of the learning rate values and use the above function to draw diagram\n",
    "    </font>\n",
    "</div>"
   ]
  },
  {
   "cell_type": "code",
   "execution_count": 27,
   "metadata": {},
   "outputs": [],
   "source": [
    "initial_point = (-100, 100)\n",
    "learning_rates = [0.01, 0.05, 0.19, 0.4]\n",
    "threshold = 100\n",
    "max_iterations = 1000"
   ]
  },
  {
   "cell_type": "code",
   "execution_count": 28,
   "metadata": {
    "collectable": true
   },
   "outputs": [
    {
     "data": {
      "image/png": "[encoded data removed]",
      "text/plain": [
       "<Figure size 432x288 with 1 Axes>"
      ]
     },
     "metadata": {
      "needs_background": "light"
     },
     "output_type": "display_data"
    }
   ],
   "source": [
    "# learning rate 0.01\n",
    "    ############################################################\n",
    "    # (0.5 Points)                                             #\n",
    "    ############################################################\n",
    "x_1_sequence, x_2_sequence = gradiant_descent(f, initial_point, 0.01, threshold, max_iterations)\n",
    "draw_points_sequence(f, x_1_sequence, x_2_sequence)"
   ]
  },
  {
   "cell_type": "code",
   "execution_count": 29,
   "metadata": {
    "collectable": true
   },
   "outputs": [
    {
     "data": {
      "image/png": "[encoded data removed]",
      "text/plain": [
       "<Figure size 432x288 with 1 Axes>"
      ]
     },
     "metadata": {
      "needs_background": "light"
     },
     "output_type": "display_data"
    }
   ],
   "source": [
    "# learning rate 0.05\n",
    "    ############################################################\n",
    "    # (0.5 Points)                                             #\n",
    "    ############################################################\n",
    "x_1_sequence, x_2_sequence = gradiant_descent(f, initial_point, 0.05, threshold, max_iterations)\n",
    "draw_points_sequence(f, x_1_sequence, x_2_sequence)"
   ]
  },
  {
   "cell_type": "code",
   "execution_count": 30,
   "metadata": {
    "collectable": true
   },
   "outputs": [
    {
     "data": {
      "image/png": "[encoded data removed]",
      "text/plain": [
       "<Figure size 432x288 with 1 Axes>"
      ]
     },
     "metadata": {
      "needs_background": "light"
     },
     "output_type": "display_data"
    }
   ],
   "source": [
    "# learning rate 0.19\n",
    "    ############################################################\n",
    "    # (0.5 Points)                                             #\n",
    "    ############################################################\n",
    "x_1_sequence, x_2_sequence = gradiant_descent(f, initial_point, 0.19, threshold, max_iterations)\n",
    "draw_points_sequence(f, x_1_sequence, x_2_sequence)"
   ]
  },
  {
   "cell_type": "code",
   "execution_count": 31,
   "metadata": {
    "collectable": true
   },
   "outputs": [
    {
     "data": {
      "image/png": "[encoded data removed]",
      "text/plain": [
       "<Figure size 432x288 with 1 Axes>"
      ]
     },
     "metadata": {
      "needs_background": "light"
     },
     "output_type": "display_data"
    }
   ],
   "source": [
    "# learning rate 0.4\n",
    "    ############################################################\n",
    "    # (0.5 Points)                                             #\n",
    "    ############################################################\n",
    "x_1_sequence, x_2_sequence = gradiant_descent(f, initial_point, 0.4, threshold, max_iterations)\n",
    "draw_points_sequence(f, x_1_sequence, x_2_sequence)"
   ]
  },
  {
   "cell_type": "markdown",
   "metadata": {},
   "source": [
    "<div>\n",
    "    <font size=3>\n",
    "    explain your result comprehensively from the charts, \n",
    "    </font>\n",
    "</div>"
   ]
  },
  {
   "cell_type": "markdown",
   "metadata": {
    "collectable": true
   },
   "source": [
    "<font color=blue>\n",
    "    (6 Points) <br/>\n",
    "For learning rate = 0.01, learning rate = 0.05 and learning rate = 0.19 the algorithm converge to the answer, for learning rate = 0.01 and 0.05 it connverges directly to the answe but for lrerning rate = 0.05 it converges faster(with less steps) than learning rates = 0.01. For learning rate = 0.19, it oscillates around the minimum point but every time it get closer to the minmum point and at last if converges to it. For learning rate = 0.4 the algorithm diverges and never finds the answer.\n",
    "</font>"
   ]
  },
  {
   "cell_type": "markdown",
   "metadata": {},
   "source": [
    "# Q2. CSPs (30 Points)"
   ]
  },
  {
   "cell_type": "markdown",
   "metadata": {},
   "source": [
    "As students are preparing for midterm exams and the virtual exam days are gone and forgotten, each department is struggling to select at least one hall out of $N$ halls in the university to hold their exams. But here's the thing:\n",
    "  - Students from each department aren't really fond of sitting next to students from other departments and must be separated (for example CE students and CS students must not share the same hall for exams).\n",
    "  - Each department likes certain halls and won't hold their exams in other halls.\n",
    "  - Sadly, the exit doors in some of the halls are stuck and the hard working staff have provided some routes so that the students from specific halls need to walk through the other hall and exit after the examination. And because they would like to prevent cheating as much as possible, students in such halls cannot be from the same department.\n",
    "Check out the example below to fully understand the situation."
   ]
  },
  {
   "cell_type": "markdown",
   "metadata": {},
   "source": [
    "## Example\n",
    "Look at this picture carefully.<br>\n",
    "<img src=\"Images/CSP_example.png\" width=\"400\"/>\n",
    "  - There are $6$ halls and $3$ departments.\n",
    "  - The halls which the deparments like are indicated (for example, CE exams can be held only at Hall 1, 4 and 6).\n",
    "  - Students from Hall 1 should exit using the doors in Hall 2 (Note: they all exit there and won't continue to Hall 3). In this case, EE students cannot be in both Hall 1 and 2 (But of course, it's okay for them to be in Hall 1 and 3)."
   ]
  },
  {
   "cell_type": "markdown",
   "metadata": {},
   "source": [
    "## Note\n",
    "  - You _must_ implement and use AC-3 algorithm.\n",
    "  - You will _probably_ need to utilize the heuristic algorithms you have learned (e.g. MRV and LCV) or consider nearly tree-structured graphs approach in order to pass all tests in an appropriate time."
   ]
  },
  {
   "cell_type": "markdown",
   "metadata": {},
   "source": [
    "## Input\n",
    "  - The first line consists of $N$ (count of halls) and $M$ (count of departments).\n",
    "  - In the following $M$ lines, the $i$ th line ($1 \\le i \\le M$) is a list of preferred halls for the $i$ th department (separated by space).\n",
    "  - In the next line, $E$, the total number of exit constraints (edges in the previous graph) are given.\n",
    "  - in each of the following $E$ lines, a pair of hall numbers (separated by space) is given (reminder: the direction is important).\n",
    "$$1 \\le N \\le 50$$\n",
    "$$1 \\le M \\le 50$$\n",
    "\n",
    "### Sample Input\n",
    "This sample describes the previous example (CE=1, EE=2, ME=3).\n",
    "```\n",
    "6 3\n",
    "1 4 6\n",
    "1 2 3 5 6\n",
    "3 4 5\n",
    "5\n",
    "1 2\n",
    "2 3\n",
    "3 4\n",
    "3 5\n",
    "3 6\n",
    "```"
   ]
  },
  {
   "cell_type": "markdown",
   "metadata": {},
   "source": [
    "## Output\n",
    "In the only line, print:\n",
    "  - list of one appropriate assignment ordered by hall number (separated by space).\n",
    "  - `NO` if there isn't.\n",
    "\n",
    "### Sample Output\n",
    "One possible solution to the example above is {Hall1=CE, Hall2=EE , Hall3=ME, Hall4=CE, Hall5=EE, Hall6=EE}. So:\n",
    "```\n",
    "1 2 3 1 2 2\n",
    "```\n",
    "In another example, If Hall3 was not an option for ME, then the answer would be:\n",
    "```\n",
    "NO\n",
    "```\n",
    "Because then hall 2 or 3 would be empty."
   ]
  },
  {
   "cell_type": "markdown",
   "metadata": {},
   "source": [
    "## Your code\n",
    "**Note:** It's OK to change the signature for the given functions and the given structure is just a suggestion to help you with the implementation. (you can't remove or add any cells based on the **Rules** section)"
   ]
  },
  {
   "cell_type": "code",
   "execution_count": null,
   "metadata": {
    "collectable": true
   },
   "outputs": [],
   "source": [
    "# Auxiliary functions"
   ]
  },
  {
   "cell_type": "code",
   "execution_count": 32,
   "metadata": {
    "collectable": true
   },
   "outputs": [],
   "source": [
    "from queue import Queue\n",
    "def ac_3(valid_values, edge):\n",
    "    #################################################################\n",
    "    # (Point: 30% of total score obtained by tests)                 #\n",
    "    # This function returns false                                   #\n",
    "    # if an inconsistency is found and true otherwise.              #\n",
    "    # Feel free to also implement a `revise` function in this cell. #\n",
    "    #################################################################\n",
    "    if len(valid_values[edge[1]]) > 1:\n",
    "        return False\n",
    "    removed = False\n",
    "    for value in valid_values[edge[0]]:\n",
    "        if valid_values[edge[1]].__contains__(value):\n",
    "            removed = True\n",
    "            valid_values[edge[0]].remove(value)\n",
    "    return removed\n",
    "\n",
    "        \n",
    "         \n",
    "\n",
    "def revise(n, valid_values, edges, graph):\n",
    "    new_valid_values = valid_values.copy()\n",
    "    q = Queue()\n",
    "    for edge in edges:\n",
    "        q.put((edge[0] - 1, edge[1] - 1))\n",
    "        q.put((edge[1] - 1, edge[0] - 1))\n",
    "    while not(q.empty()):\n",
    "        edge = q.get()\n",
    "        if ac_3(new_valid_values, edge):\n",
    "            for i in range(n):\n",
    "                if(graph[edge[0]][i]) == 1:\n",
    "                    q.put((i, edge[0]))\n",
    "    return new_valid_values\n"
   ]
  },
  {
   "cell_type": "code",
   "execution_count": 33,
   "metadata": {
    "collectable": true
   },
   "outputs": [],
   "source": [
    "def backtrack(n, m, graph, valid_values, assignments, number_of_checked_vars, edges):\n",
    "    #################################################################\n",
    "    # (Point: 60% of total score obtained by tests)                 #\n",
    "    # This function returns a solution if there is a complete       #\n",
    "    # assignment or failure if there is not                         #\n",
    "    #################################################################\n",
    "    if number_of_checked_vars == n:\n",
    "        return assignments, True\n",
    "    new_valid_values = revise(n, valid_values, edges, graph)\n",
    "    for value in new_valid_values:\n",
    "        if len(value) == 0:\n",
    "            return [], False\n",
    "    MRV_index = -1\n",
    "    MRV = np.inf\n",
    "    for i in range(n):\n",
    "        if assignments[i] != 0:\n",
    "            continue\n",
    "        temp = len(new_valid_values[i])\n",
    "        if temp < MRV:\n",
    "            MRV_index = i\n",
    "            MRV = temp\n",
    "    for value in new_valid_values[MRV_index]:\n",
    "        new_valid_values_copy = new_valid_values.copy()\n",
    "        new_valid_values_copy[MRV_index] = [value]\n",
    "        assignments_copy = assignments.copy()\n",
    "        assignments_copy[MRV_index] = value\n",
    "        result, state = backtrack(n, m, graph, new_valid_values_copy, assignments_copy, number_of_checked_vars + 1, edges)\n",
    "        if state != False:\n",
    "            return result, True\n",
    "    return [], False\n",
    "\n",
    "def backtracking_search(n, m, edges, prefs):\n",
    "    #################################################################\n",
    "    #                          (Optional)                           #\n",
    "    #   Just in case you need an auxiliary function for backtrack   #\n",
    "    #################################################################\n",
    "    graph = np.zeros((n, n))\n",
    "    for edge in edges:\n",
    "        graph[edge[0] - 1][edge[1] - 1] = 1\n",
    "        graph[edge[1] - 1][edge[0] - 1] = 1\n",
    "    valid_values = [[] for i in range(n)]\n",
    "    for i in range(m):\n",
    "        for hall in prefs[i]:\n",
    "            valid_values[hall - 1].append(i + 1)\n",
    "    assignments = np.zeros((1, n)).reshape(-1)\n",
    "    number_of_checked_vars = 0\n",
    "    result, state = backtrack(n, m, graph, valid_values, assignments, number_of_checked_vars, edges)\n",
    "    if not(state):\n",
    "        return 'NO'\n",
    "    return ' '.join(map(str, (map(int, result))))"
   ]
  },
  {
   "cell_type": "code",
   "execution_count": 34,
   "metadata": {},
   "outputs": [
    {
     "name": "stdout",
     "output_type": "stream",
     "text": [
      "Score = 100.0%\n"
     ]
    }
   ],
   "source": [
    "import Helper_codes.question2 as q2\n",
    "import time\n",
    "\n",
    "TIME_LIMIT = 3\n",
    "\n",
    "tests = q2.get_all_tests(prefix='q2_')\n",
    "tests_passed = 0\n",
    "for test in tests:\n",
    "    n, m, m_next_lines, e, next_e_lines = q2.scan_test_input(test)\n",
    "    #################################################################\n",
    "    # (Point: 10% of total score obtained by tests)                 #\n",
    "    # Replace this comment section with a piece of code to          #\n",
    "    # handle inputs.                                                #\n",
    "    #################################################################\n",
    "    start_time = time.time()\n",
    "    result = backtracking_search(n, m, next_e_lines, m_next_lines)\n",
    "    total_time = time.time() - start_time\n",
    "    if q2.is_result_valid(test, result) and total_time < TIME_LIMIT:\n",
    "        tests_passed += 1\n",
    "    else:\n",
    "        print(f'test {test} failed. time elapsed= {total_time}')\n",
    "print(f'Score = {tests_passed / len(tests) * 100}%')"
   ]
  },
  {
   "cell_type": "markdown",
   "metadata": {},
   "source": [
    "# Q3 (30+5 Points)"
   ]
  },
  {
   "cell_type": "code",
   "execution_count": null,
   "metadata": {
    "collectable": true
   },
   "outputs": [],
   "source": [
    "# place for your custom functions for Q3 here"
   ]
  },
  {
   "cell_type": "markdown",
   "metadata": {},
   "source": [
    "Consider the given 8*8 board game. There are two players in this game and they try to block each other and limit their valid moves by making walls. Their moves are limited to the 8 cells (or less when they are around the edges) beside them and the walls will start to appear only when a player steps into a random generated yellow cell and the wall will continue to be built until the player reaches the next yellow cell. The players start the game at (0,0) and (7,7) and they keep playing untill one of them loses. There are multiple ways for a player to win the match:\n",
    "- If a player steps into a wall or out of the board, the player loses the match and \"invalid move\" massege will appear on terminal.\n",
    "- If the players reach the maximum moves the game finishes and the winner would be chosen based on the maximum valid move they have left plus the number of walls they have made and \"No more moves\" massege will appear on terminal.\n",
    "- If the getMove() function does not return any value after 2 seconds, the player loses the match and \"Time limit exceeded\" massege will appear on terminal.\n",
    "<img src=\"Images/Q3.png\" style=\"float: center; margin-left: 250px; margin-top: 50px; width:500px;height:400px;\"/>"
   ]
  },
  {
   "cell_type": "markdown",
   "metadata": {},
   "source": [
    "In this question, the codes for starting the game were provided for you in Helper-codes folder. You are expected to implement the MinimaxPlayer class (which inherit the Player class) with alpha-beta pruning. (25 points)"
   ]
  },
  {
   "cell_type": "markdown",
   "metadata": {},
   "source": [
    "## Libraries"
   ]
  },
  {
   "cell_type": "code",
   "execution_count": 35,
   "metadata": {
    "execution": {
     "iopub.execute_input": "2021-10-01T16:01:11.557956Z",
     "iopub.status.busy": "2021-10-01T16:01:11.556447Z",
     "iopub.status.idle": "2021-10-01T16:01:11.747409Z",
     "shell.execute_reply": "2021-10-01T16:01:11.746914Z"
    }
   },
   "outputs": [
    {
     "name": "stdout",
     "output_type": "stream",
     "text": [
      "Requirement already satisfied: tk in c:\\users\\notebook\\appdata\\local\\programs\\python\\python39\\lib\\site-packages (0.1.0)\n",
      "Requirement already satisfied: matplotlib in c:\\users\\notebook\\appdata\\local\\programs\\python\\python39\\lib\\site-packages (3.4.3)\n",
      "Requirement already satisfied: python-dateutil>=2.7 in c:\\users\\notebook\\appdata\\local\\programs\\python\\python39\\lib\\site-packages (from matplotlib) (2.8.2)\n",
      "Requirement already satisfied: cycler>=0.10 in c:\\users\\notebook\\appdata\\local\\programs\\python\\python39\\lib\\site-packages (from matplotlib) (0.10.0)\n",
      "Requirement already satisfied: pillow>=6.2.0 in c:\\users\\notebook\\appdata\\local\\programs\\python\\python39\\lib\\site-packages (from matplotlib) (8.4.0)\n",
      "Requirement already satisfied: numpy>=1.16 in c:\\users\\notebook\\appdata\\local\\programs\\python\\python39\\lib\\site-packages (from matplotlib) (1.21.3)\n",
      "Requirement already satisfied: kiwisolver>=1.0.1 in c:\\users\\notebook\\appdata\\local\\programs\\python\\python39\\lib\\site-packages (from matplotlib) (1.3.2)\n",
      "Requirement already satisfied: pyparsing>=2.2.1 in c:\\users\\notebook\\appdata\\local\\programs\\python\\python39\\lib\\site-packages (from matplotlib) (2.4.7)\n",
      "Requirement already satisfied: six in c:\\users\\notebook\\appdata\\local\\programs\\python\\python39\\lib\\site-packages (from cycler>=0.10->matplotlib) (1.16.0)\n"
     ]
    }
   ],
   "source": [
    "!pip install tk\n",
    "!pip install matplotlib\n",
    "import numpy as np\n",
    "import random\n",
    "from Helper_codes.graphics import *\n",
    "from Helper_codes.question3 import Cell\n",
    "from Helper_codes.question3 import IntPair\n",
    "from Helper_codes.question3 import Player\n",
    "from Helper_codes.question3 import NaivePlayer\n",
    "from Helper_codes.question3 import Board\n",
    "from Helper_codes.question3 import Game\n",
    "import time\n",
    "import matplotlib.pyplot as plt\n",
    "import seaborn as sns               "
   ]
  },
  {
   "cell_type": "markdown",
   "metadata": {},
   "source": [
    "**The following implementations are suggestional and you may change them if you desire.\n",
    "The move_ functions' purpose is to find out if a player, has a valid move on that direction.\n",
    "the purpose of checkRow and CheckCole are to check if the player's x and y is still in the board.**\n"
   ]
  },
  {
   "cell_type": "code",
   "execution_count": 43,
   "metadata": {
    "collectable": true
   },
   "outputs": [],
   "source": [
    "#to do\n",
    "from copy import deepcopy\n",
    "class MinimaxPlayer(Player):\n",
    "\n",
    "    main_max_depth = 4\n",
    "    \n",
    "    def __init__(self, col, x, y, main_max_depth):\n",
    "        super().__init__(col, x, y)\n",
    "        self.main_max_depth = main_max_depth\n",
    "\n",
    "\n",
    "    def checkCol(self, x, board):\n",
    "        ################################################################\n",
    "        # code here                                                    #\n",
    "        ################################################################\n",
    "        if 0 <= x <= board.getSize():\n",
    "            return 1\n",
    "        return 0\n",
    "    \n",
    "\n",
    "    def checkRow(self, y, board):\n",
    "        ################################################################\n",
    "        # code here                                                    #\n",
    "        ################################################################\n",
    "        if 0 <= y <= board.getSize():\n",
    "            return 1\n",
    "        return 0\n",
    "    \n",
    "\n",
    "    def moveU(self, x, y, board):\n",
    "        ################################################################\n",
    "        # code here                                                    #\n",
    "        ################################################################\n",
    "        if self.checkCol(x - 1, board) == 0:\n",
    "            return False\n",
    "        return True\n",
    "    \n",
    "\n",
    "    def moveD(self, x, y, board):\n",
    "        ################################################################\n",
    "        # code here                                                    #\n",
    "        ################################################################\n",
    "        if self.checkCol(x + 1, board) == 0:\n",
    "            return False\n",
    "        return True\n",
    "\n",
    "    def moveR(self, x, y, board):\n",
    "        ################################################################\n",
    "        # code here                                                    #\n",
    "        ################################################################\n",
    "        if self.checkRow(y + 1, board) == 0:\n",
    "            return False\n",
    "        return True\n",
    "    \n",
    "    def moveL(self, x, y, board):\n",
    "        ################################################################\n",
    "        # code here                                                    #\n",
    "        ################################################################\n",
    "        if self.checkRow(y - 1, board) == 0:\n",
    "            return False\n",
    "        return True\n",
    "\n",
    "    def moveUR(self, x, y, board):\n",
    "        ################################################################\n",
    "        # code here                                                    #\n",
    "        ################################################################\n",
    "        if self.checkCol(x - 1, board) == 0:\n",
    "            return False\n",
    "        if self.checkRow(y + 1, board) == 0:\n",
    "            return False\n",
    "        return True\n",
    "    \n",
    "    def moveUL(self, x, y, board):\n",
    "        ################################################################\n",
    "        # code here                                                    #\n",
    "        ################################################################\n",
    "        if self.checkCol(x - 1, board) == 0:\n",
    "            return False\n",
    "        if self.checkRow(y - 1, board) == 0:\n",
    "            return False\n",
    "        return True\n",
    "\n",
    "    def moveDR(self, x, y, board):\n",
    "        ################################################################\n",
    "        # code here                                                    #\n",
    "        ################################################################\n",
    "        if self.checkCol(x + 1, board) == 0:\n",
    "            return False\n",
    "        if self.checkRow(y + 1, board) == 0:\n",
    "            return False\n",
    "        return True\n",
    "\n",
    "    def moveDL(self, x, y, board):\n",
    "        ################################################################\n",
    "        # code here                                                    #\n",
    "        ################################################################\n",
    "        if self.checkCol(x - 1, board) == 0:\n",
    "            return False\n",
    "        if self.checkRow(x + 1, board) == 0:\n",
    "            return False\n",
    "        return True\n",
    "\n",
    "    def canMove(self, x, y, board):\n",
    "        ################################################################\n",
    "        # code here                                                    #\n",
    "        ################################################################\n",
    "        return self.moveU(x, y, board) | self.moveD(x, y, board) | self.moveR(x, y, board) | self.moveL(x, y, board) | self.moveUR(x, y, board) | self.moveUL(x, y, board) | self.moveDR(x, y, board) | self.moveDL(x, y, board)\n",
    "\n",
    "    def value():\n",
    "        pass\n",
    "\n",
    "    def minValue(self, board, alpha, beta, depth, max_depth):\n",
    "        ################################################################\n",
    "        # implement the minValue function (5 points)                   #\n",
    "        # this function should return an Integer which is the minValue #                                         \n",
    "        ################################################################\n",
    "        if depth == max_depth:\n",
    "            return board.getScore(1) - board.getScore(2)\n",
    "        v = float('inf')\n",
    "        for i in [-1, 0, 1]:\n",
    "            for j in [-1, 0, 1]:    \n",
    "                if i == 0 and j == 0:\n",
    "                    continue\n",
    "                copy_board = deepcopy(board)\n",
    "                temp = copy_board.move(IntPair(board.getPlayerX (2) + i, board.getPlayerY (2) + j), 2)\n",
    "                if temp < 0:\n",
    "                    continue\n",
    "                v = min(v, self.maxValue(copy_board, alpha, beta, depth + 1, max_depth))\n",
    "                if v <= alpha:\n",
    "                    return v\n",
    "                beta = min(beta, v)\n",
    "        return v\n",
    "    \n",
    "    def maxValue(self, board, alpha, beta, depth, max_depth):\n",
    "        ################################################################\n",
    "        # implement the manValue function (5 points)                   #\n",
    "        # this function should return an Integer which is the manValue #                                         \n",
    "        ################################################################\n",
    "        if depth == max_depth:\n",
    "            return board.getScore(1) - board.getScore(2)\n",
    "        v = float('-inf')\n",
    "        for i in [-1, 0, 1]:\n",
    "            for j in [-1, 0, 1]:    \n",
    "                if i == 0 and j == 0:\n",
    "                    continue\n",
    "                copy_board = deepcopy(board)\n",
    "                temp = copy_board.move(IntPair(board.getPlayerX (1) + i, board.getPlayerY (1) + j), 1)\n",
    "                if temp < 0:\n",
    "                    continue\n",
    "                v = max(v, self.minValue(copy_board, alpha, beta, depth + 1, max_depth))\n",
    "                if v >= beta:\n",
    "                    return v\n",
    "                alpha = max(alpha, v)\n",
    "        return v\n",
    "    \n",
    "    def getMove(self, board):\n",
    "        ################################################################\n",
    "        # implement a function that returns an Inpair for player's-    #\n",
    "        # next x and y. Implementation of x and y should be in a way-  #\n",
    "        # that let the players choose any of the 8 cells around them   #\n",
    "        # (unlike the NaivePlayer which can go only in 4 direction)    #                                          \n",
    "        # pay attention that this IntPair should be calculated using   #\n",
    "        # alpha beta pruning Otherwise, you will not receive the full  #\n",
    "        # score (15 points)                                            #\n",
    "        ################################################################\n",
    "        alpha = float('-inf')\n",
    "        beta = float('inf')\n",
    "        next = IntPair(-20, -20)\n",
    "        #if (board.getNumberOfMoves() == board.maxNumberOfMoves):\n",
    "         #   return IntPair(-20, -20)\n",
    "        \n",
    "        #if not (self.canMove(board.getPlayerX(self.getCol()), board.getPlayerY(self.getCol()), board)):\n",
    "         #   return IntPair(-10, -10)\n",
    "        \n",
    "        if (self.getCol() == 1):\n",
    "            ################################################################\n",
    "            # code here                                                    #\n",
    "            ################################################################\n",
    "            if board.maxNumberOfMoves - board.getNumberOfMoves() > self.main_max_depth:\n",
    "                max_depth = self.main_max_depth\n",
    "            else:\n",
    "                max_depth = board.getNumberOfMoves()\n",
    "            v = float('-inf')\n",
    "            for i in [-1, 0, 1]:\n",
    "                for j in [-1, 0, 1]:\n",
    "                    if i == 0 and j == 0:\n",
    "                        continue\n",
    "                    copy_board = deepcopy(board)\n",
    "                    temp = copy_board.move(IntPair(board.getPlayerX (1) + i, board.getPlayerY (1) + j), 1)\n",
    "                    if temp < 0:\n",
    "                        continue\n",
    "                    temp = self.minValue(copy_board, alpha, beta, 1, max_depth)\n",
    "                    if v < temp:\n",
    "                        v = temp\n",
    "                        next = IntPair(board.getPlayerX (1) + i, board.getPlayerY (1) + j)\n",
    "                    if v >= beta:\n",
    "                        return next\n",
    "                    alpha = max(alpha, v)\n",
    "            return next\n",
    "\n",
    "        else:\n",
    "            ################################################################\n",
    "            # code here                                                    #\n",
    "            ################################################################\n",
    "            if board.maxNumberOfMoves - board.getNumberOfMoves() > self.main_max_depth:\n",
    "                max_depth = self.main_max_depth\n",
    "            else:\n",
    "                max_depth = board.getNumberOfMoves()\n",
    "            v = float('inf')\n",
    "            for i in [-1, 0, 1]:\n",
    "                for j in [-1, 0, 1]:    \n",
    "                    if i == 0 and j == 0:\n",
    "                        continue\n",
    "                    copy_board = deepcopy(board)\n",
    "                    temp = copy_board.move(IntPair(board.getPlayerX (2) + i, board.getPlayerY (2) + j), 2)\n",
    "                    if temp < 0:\n",
    "                        continue\n",
    "                    temp = self.maxValue(copy_board, alpha, beta, 1, max_depth)\n",
    "                    if v > temp:\n",
    "                        v = temp\n",
    "                        next = IntPair(board.getPlayerX (2) + i, board.getPlayerY (2) + j)\n",
    "                    if v <= alpha:\n",
    "                        return next\n",
    "                    beta = min(beta, v)\n",
    "            return next\n",
    "################################################################\n",
    "# The helper has a bug in its move function in Board class. It # \n",
    "# It should check the number of moves are finished or not befor# \n",
    "# every thing, so we should move the last \"elif\" to the first  #\n",
    "# of function and it should be the first \"if\". I change this   #\n",
    "# in my code, please change this in helper codes when running  #\n",
    "# my codes because if you don't, my code may not be work.      #                                               \n",
    "################################################################"
   ]
  },
  {
   "cell_type": "markdown",
   "metadata": {},
   "source": [
    "If you run the game once (numberOfMatches = 1) the game window will open and you would be able to observe the players behaviour and the reason why the winner has won, will appear on terminal.\n",
    "If you run the game for more than one match (numberOfMatches > 1) the graphic window and the comments on terminal would not show up. This is for the time you finish implementing the MinimaxPlayer class and you want to verify the functionality of your code; also, for next part of the question, in which you should plot the scores for the first player."
   ]
  },
  {
   "cell_type": "code",
   "execution_count": 40,
   "metadata": {
    "collectable": true
   },
   "outputs": [
    {
     "name": "stdout",
     "output_type": "stream",
     "text": [
      "Player 2 has exceeded the time limit\n",
      "Player 1 has won\n",
      "\n",
      "1.0\n"
     ]
    }
   ],
   "source": [
    "################################################################\n",
    "# p1 must be replace with minimaxPlayer                        #\n",
    "################################################################\n",
    "p1 = MinimaxPlayer(1, 0, 0, 4)\n",
    "p2 = NaivePlayer(2, 7, 7)\n",
    "g = Game(p1, p2)\n",
    "numberOfMatches = 1\n",
    "score1, score2 = g.start(numberOfMatches)\n",
    "print(score1/numberOfMatches)"
   ]
  },
  {
   "cell_type": "markdown",
   "metadata": {},
   "source": [
    "In this section, you need to run the game code multiple times and each time with the same numberOfMatches (this should be a large number so your answer be more reliable) once for Naive player and once for Minimax. compare these two plots in terms of shape and the main elements of the distribution. (5 points)"
   ]
  },
  {
   "cell_type": "code",
   "execution_count": 23,
   "metadata": {
    "collectable": true
   },
   "outputs": [
    {
     "name": "stderr",
     "output_type": "stream",
     "text": [
      "100%|██████████| 20/20 [19:08<00:00, 57.44s/it]\n"
     ]
    },
    {
     "data": {
      "text/plain": [
       "[<matplotlib.lines.Line2D at 0x227084a9760>]"
      ]
     },
     "execution_count": 23,
     "metadata": {},
     "output_type": "execute_result"
    },
    {
     "data": {
      "image/png": "[encoded data removed]",
      "text/plain": [
       "<Figure size 432x288 with 1 Axes>"
      ]
     },
     "metadata": {
      "needs_background": "light"
     },
     "output_type": "display_data"
    }
   ],
   "source": [
    "################################################################\n",
    "# when player1 is NaivePlayer (2.5 point)                      #\n",
    "################################################################\n",
    "from tqdm import tqdm\n",
    "match_win = np.zeros((1, 11)).reshape(-1)\n",
    "for i in tqdm(range(20)):\n",
    "    p1 = MinimaxPlayer(1, 0, 0, 4)\n",
    "    p2 = NaivePlayer(2, 7, 7)\n",
    "    g = Game(p1, p2)\n",
    "    numberOfMatches = 10\n",
    "    score1, score2 = g.start(numberOfMatches)\n",
    "    match_win[score1] += 1\n",
    "plt.plot(range(11), match_win)\n",
    "    "
   ]
  },
  {
   "cell_type": "code",
   "execution_count": 25,
   "metadata": {
    "collectable": true
   },
   "outputs": [
    {
     "name": "stderr",
     "output_type": "stream",
     "text": [
      "100%|██████████| 20/20 [26:04<00:00, 78.24s/it]\n"
     ]
    },
    {
     "data": {
      "text/plain": [
       "[<matplotlib.lines.Line2D at 0x22708716ee0>]"
      ]
     },
     "execution_count": 25,
     "metadata": {},
     "output_type": "execute_result"
    },
    {
     "data": {
      "image/png": "[encoded data removed]",
      "text/plain": [
       "<Figure size 432x288 with 1 Axes>"
      ]
     },
     "metadata": {
      "needs_background": "light"
     },
     "output_type": "display_data"
    }
   ],
   "source": [
    "################################################################\n",
    "# when player1 is MinimaxPlayer (2.5 point)                    #\n",
    "################################################################\n",
    "from tqdm import tqdm\n",
    "match_win = np.zeros((1, 11)).reshape(-1)\n",
    "for i in tqdm(range(20)):\n",
    "    p1 = MinimaxPlayer(1, 0, 0, 4)\n",
    "    p2 = MinimaxPlayer(2, 7, 7, 4)\n",
    "    g = Game(p1, p2)\n",
    "    numberOfMatches = 10\n",
    "    score1, score2 = g.start(numberOfMatches)\n",
    "    match_win[score1] += 1\n",
    "plt.plot(range(11), match_win)"
   ]
  },
  {
   "cell_type": "markdown",
   "metadata": {},
   "source": [
    "<font color=blue>\n",
    "<br/>\n",
    "If a Minimax player, plays with a Naive player, every time, it wins more than 50% of games of a set. Also sometimes, it wins all of the games of a set. If it playes with another Minimax player, it never loeses all the games of a set, but also, it never wins more the 70% of the games. It has better function when it plays with a Naive player.\n",
    "</font>"
   ]
  },
  {
   "cell_type": "markdown",
   "metadata": {},
   "source": [
    "In this section you should change the game settings for different depths and plot the number of wins in fix number of matches for these depths. Also, you should let two minimax players with diffrent depths play againts eachother and report your observation.(5 points)"
   ]
  },
  {
   "cell_type": "code",
   "execution_count": 26,
   "metadata": {
    "collectable": true
   },
   "outputs": [
    {
     "name": "stderr",
     "output_type": "stream",
     "text": [
      "100%|██████████| 5/5 [10:30<00:00, 126.16s/it]\n"
     ]
    },
    {
     "data": {
      "text/plain": [
       "[<matplotlib.lines.Line2D at 0x227086a91c0>]"
      ]
     },
     "execution_count": 26,
     "metadata": {},
     "output_type": "execute_result"
    },
    {
     "data": {
      "image/png": "[encoded data removed]",
      "text/plain": [
       "<Figure size 432x288 with 1 Axes>"
      ]
     },
     "metadata": {
      "needs_background": "light"
     },
     "output_type": "display_data"
    }
   ],
   "source": [
    "################################################################\n",
    "# plot the number of wins for diffrent depths (2.5 point)      #\n",
    "################################################################\n",
    "from tqdm import tqdm\n",
    "match_win = []\n",
    "for i in tqdm(range(2, 7)):\n",
    "    p1 = MinimaxPlayer(1, 0, 0, i)\n",
    "    p2 = NaivePlayer(2, 7, 7)\n",
    "    g = Game(p1, p2)\n",
    "    numberOfMatches = 10\n",
    "    score1, score2 = g.start(numberOfMatches)\n",
    "    match_win.append(score1)\n",
    "plt.plot(range(2, 7), match_win)"
   ]
  },
  {
   "cell_type": "code",
   "execution_count": 29,
   "metadata": {
    "collectable": true
   },
   "outputs": [
    {
     "name": "stderr",
     "output_type": "stream",
     "text": [
      "100%|██████████| 20/20 [12:40<00:00, 38.04s/it]\n"
     ]
    },
    {
     "data": {
      "text/plain": [
       "[<matplotlib.lines.Line2D at 0x227097987f0>]"
      ]
     },
     "execution_count": 29,
     "metadata": {},
     "output_type": "execute_result"
    },
    {
     "data": {
      "image/png": "[encoded data removed]",
      "text/plain": [
       "<Figure size 432x288 with 1 Axes>"
      ]
     },
     "metadata": {
      "needs_background": "light"
     },
     "output_type": "display_data"
    }
   ],
   "source": [
    "################################################################\n",
    "# start the match for two minimax players (2.5 point)          #\n",
    "################################################################\n",
    "from tqdm import tqdm\n",
    "match_win = np.zeros((1, 11)).reshape(-1)\n",
    "for i in tqdm(range(20)):\n",
    "    p1 = MinimaxPlayer(1, 0, 0, 4)\n",
    "    p2 = MinimaxPlayer(2, 7, 7, 2)\n",
    "    g = Game(p1, p2)\n",
    "    numberOfMatches = 10\n",
    "    score1, score2 = g.start(numberOfMatches)\n",
    "    match_win[score1] += 1\n",
    "plt.plot(range(11), match_win)"
   ]
  },
  {
   "cell_type": "markdown",
   "metadata": {},
   "source": [
    "<font color=blue>\n",
    "<br/>\n",
    "The player with higher depth, always wins more than 60% of the games and most of time, it wins all of the game. So the player with higher depth, has better function.\n",
    "</font>"
   ]
  }
 ],
 "metadata": {
  "interpreter": {
   "hash": "f336af7d54ba0f0c1daaf2256eb85f31e983e88153daf7a27ef3ea6c724faba4"
  },
  "kernelspec": {
   "display_name": "Python 3 (ipykernel)",
   "language": "python",
   "name": "python3"
  },
  "language_info": {
   "codemirror_mode": {
    "name": "ipython",
    "version": 3
   },
   "file_extension": ".py",
   "mimetype": "text/x-python",
   "name": "python",
   "nbconvert_exporter": "python",
   "pygments_lexer": "ipython3",
   "version": "3.9.7"
  }
 },
 "nbformat": 4,
 "nbformat_minor": 4
}
